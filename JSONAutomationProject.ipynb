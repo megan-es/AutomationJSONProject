{
 "cells": [
  {
   "cell_type": "code",
   "execution_count": 2,
   "metadata": {},
   "outputs": [],
   "source": [
    "# Imports\n",
    "import requests \n",
    "import json\n",
    "\n",
    "# Fetching JSON data\n",
    "def fetch_data():\n",
    "    url = \"https://jsonplaceholder.typicode.com/posts\"\n",
    "    response = requests.get(url)\n",
    "    \n",
    "    if response.status_code == 200:\n",
    "        return response.json()\n",
    "    else:\n",
    "        print(f\"Failed to retrieve data. Status code: {response.status.code}\")\n",
    "        \n",
    "data = fetch_data()\n",
    "\n",
    "# Saving data to JSON file\n",
    "def save_to_file(data, filename='data.json'):\n",
    "    with open(filename, 'w') as file:\n",
    "        json.dump(data, file)\n",
    "        \n",
    "save_to_file(data)"
   ]
  },
  {
   "cell_type": "code",
   "execution_count": 3,
   "metadata": {},
   "outputs": [],
   "source": [
    "# Number of posts by each unique user\n",
    "def count_posts_by_user(data):\n",
    "    user_post_count = {}\n",
    "    \n",
    "    for post in data:\n",
    "        user_id = post['userId']\n",
    "        user_post_count[user_id] = user_post_count.get(user_id, 0) + 1\n",
    "    \n",
    "    return user_post_count\n",
    "\n",
    "post_counts = count_posts_by_user(data)"
   ]
  },
  {
   "cell_type": "code",
   "execution_count": 4,
   "metadata": {},
   "outputs": [],
   "source": [
    "# Find top 5 posts with highest character count\n",
    "def top_n_posts_by_length(data, n=5):\n",
    "    return sorted(data, key=lambda x: len(x['body']), reverse=True)[:n]\n",
    "\n",
    "top_posts = top_n_posts_by_length(data)\n"
   ]
  },
  {
   "cell_type": "code",
   "execution_count": 8,
   "metadata": {},
   "outputs": [],
   "source": [
    "# Check for duplicate posts\n",
    "def find_duplicate_titles(data):\n",
    "    title_counts = {}\n",
    "    duplicates = []\n",
    "    \n",
    "    for post in data:\n",
    "        title = post['title']\n",
    "        title_counts[title] = title_counts.get(title, 0) + 1\n",
    "        \n",
    "    for title, count in title_counts.items():\n",
    "        if count > 1:\n",
    "            duplicates.append(title)\n",
    "    \n",
    "    return duplicates\n",
    "\n",
    "\n",
    "duplicates = find_duplicate_titles(data)"
   ]
  },
  {
   "cell_type": "code",
   "execution_count": 10,
   "metadata": {},
   "outputs": [
    {
     "name": "stdout",
     "output_type": "stream",
     "text": [
      "Number of posts by each user:\n",
      "User 1: 10 posts\n",
      "User 2: 10 posts\n",
      "User 3: 10 posts\n",
      "User 4: 10 posts\n",
      "User 5: 10 posts\n",
      "User 6: 10 posts\n",
      "User 7: 10 posts\n",
      "User 8: 10 posts\n",
      "User 9: 10 posts\n",
      "User 10: 10 posts\n",
      "\n",
      "Top 5 posts by content length:\n",
      "Title: dolorum ut in voluptas mollitia et saepe quo animi, Length: 225\n",
      "Title: fugiat quod pariatur odit minima, Length: 218\n",
      "Title: quas fugiat ut perspiciatis vero provident, Length: 215\n",
      "Title: doloribus ad provident suscipit at, Length: 213\n",
      "Title: magnam ut rerum iure, Length: 212\n",
      "\n",
      "Duplicate post titles:\n"
     ]
    }
   ],
   "source": [
    "# Display results\n",
    "def main():\n",
    "    data = fetch_data()\n",
    "    save_to_file(data)\n",
    "\n",
    "    print(\"Number of posts by each user:\")\n",
    "    post_counts = count_posts_by_user(data)\n",
    "    for user, count in post_counts.items():\n",
    "        print(f\"User {user}: {count} posts\")\n",
    "\n",
    "    print(\"\\nTop 5 posts by content length:\")\n",
    "    top_posts = top_n_posts_by_length(data)\n",
    "    for post in top_posts:\n",
    "        print(f\"Title: {post['title']}, Length: {len(post['body'])}\")\n",
    "\n",
    "    print(\"\\nDuplicate post titles:\")\n",
    "    duplicates = find_duplicate_titles(data)\n",
    "    if duplicates:\n",
    "        for title in duplicates:\n",
    "            print(title)\n",
    "        \n",
    "        else: print(\"No duplicate titles found.\")\n",
    "\n",
    "if __name__ == \"__main__\":\n",
    "    main()\n"
   ]
  }
 ],
 "metadata": {
  "kernelspec": {
   "display_name": "Python 3",
   "language": "python",
   "name": "python3"
  },
  "language_info": {
   "codemirror_mode": {
    "name": "ipython",
    "version": 3
   },
   "file_extension": ".py",
   "mimetype": "text/x-python",
   "name": "python",
   "nbconvert_exporter": "python",
   "pygments_lexer": "ipython3",
   "version": "3.11.5"
  },
  "orig_nbformat": 4
 },
 "nbformat": 4,
 "nbformat_minor": 2
}
